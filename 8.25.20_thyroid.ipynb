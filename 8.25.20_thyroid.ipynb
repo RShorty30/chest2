{
 "cells": [
  {
   "cell_type": "code",
   "execution_count": 5,
   "metadata": {},
   "outputs": [],
   "source": [
    "import pandas as pd\n",
    "import numpy as np\n",
    "import tensorflow as tf\n",
    "from tensorflow import keras\n",
    "import tensorflow.keras.backend as K\n",
    "from tensorflow.keras.layers import Dense, GlobalAveragePooling1D, Embedding\n",
    "from tensorflow.keras.callbacks import EarlyStopping\n",
    "from tensorflow.keras.models import Sequential\n",
    "from tensorflow.keras.preprocessing.sequence import pad_sequences\n",
    "from tensorflow.keras.preprocessing.text import Tokenizer\n",
    "from tensorflow.keras.utils import to_categorical\n",
    "\n",
    "from sklearn.model_selection import train_test_split"
   ]
  },
  {
   "cell_type": "code",
   "execution_count": 32,
   "metadata": {},
   "outputs": [],
   "source": [
    "df = pd.read_csv('2018_thyroid_sents_no_duplicates.csv')\n",
    "df2 = pd.read_csv('2017_thyroid_sents.csv')\n",
    "df3 = pd.concat([df, df2])"
   ]
  },
  {
   "cell_type": "code",
   "execution_count": 39,
   "metadata": {},
   "outputs": [
    {
     "data": {
      "text/html": [
       "<div>\n",
       "<style scoped>\n",
       "    .dataframe tbody tr th:only-of-type {\n",
       "        vertical-align: middle;\n",
       "    }\n",
       "\n",
       "    .dataframe tbody tr th {\n",
       "        vertical-align: top;\n",
       "    }\n",
       "\n",
       "    .dataframe thead th {\n",
       "        text-align: right;\n",
       "    }\n",
       "</style>\n",
       "<table border=\"1\" class=\"dataframe\">\n",
       "  <thead>\n",
       "    <tr style=\"text-align: right;\">\n",
       "      <th></th>\n",
       "      <th>key</th>\n",
       "      <th>text</th>\n",
       "      <th>truth</th>\n",
       "    </tr>\n",
       "  </thead>\n",
       "  <tbody>\n",
       "    <tr>\n",
       "      <th>0</th>\n",
       "      <td>1</td>\n",
       "      <td>['there is heterogeneous enlargement of the  r...</td>\n",
       "      <td>1</td>\n",
       "    </tr>\n",
       "    <tr>\n",
       "      <th>1</th>\n",
       "      <td>5</td>\n",
       "      <td>['findings:  the imaged thyroid gland is norma...</td>\n",
       "      <td>0</td>\n",
       "    </tr>\n",
       "    <tr>\n",
       "      <th>2</th>\n",
       "      <td>8</td>\n",
       "      <td>['findings: thyroid gland is within normal lim...</td>\n",
       "      <td>0</td>\n",
       "    </tr>\n",
       "    <tr>\n",
       "      <th>3</th>\n",
       "      <td>9</td>\n",
       "      <td>['findings:  thyroid gland is within normal li...</td>\n",
       "      <td>0</td>\n",
       "    </tr>\n",
       "    <tr>\n",
       "      <th>4</th>\n",
       "      <td>10</td>\n",
       "      <td>['diffusely enlarged thyroid, similar to prior.']</td>\n",
       "      <td>0</td>\n",
       "    </tr>\n",
       "  </tbody>\n",
       "</table>\n",
       "</div>"
      ],
      "text/plain": [
       "   key                                               text  truth\n",
       "0    1  ['there is heterogeneous enlargement of the  r...      1\n",
       "1    5  ['findings:  the imaged thyroid gland is norma...      0\n",
       "2    8  ['findings: thyroid gland is within normal lim...      0\n",
       "3    9  ['findings:  thyroid gland is within normal li...      0\n",
       "4   10  ['diffusely enlarged thyroid, similar to prior.']      0"
      ]
     },
     "execution_count": 39,
     "metadata": {},
     "output_type": "execute_result"
    }
   ],
   "source": [
    "df3.head()"
   ]
  },
  {
   "cell_type": "code",
   "execution_count": 40,
   "metadata": {},
   "outputs": [
    {
     "data": {
      "text/plain": [
       "0    there is heterogeneous enlargement of the  rig...\n",
       "1       findings:  the imaged thyroid gland is normal.\n",
       "2     findings: thyroid gland is within normal limits.\n",
       "3    findings:  thyroid gland is within normal limits.\n",
       "4        diffusely enlarged thyroid, similar to prior.\n",
       "Name: text, dtype: object"
      ]
     },
     "execution_count": 40,
     "metadata": {},
     "output_type": "execute_result"
    }
   ],
   "source": [
    "text2 = df3.text.str.replace(\"\\[\", \"\")\n",
    "text3 = text2.str.replace(\"\\]\", \"\")\n",
    "text4 = text3.str.replace(\"'\", \"\")\n",
    "text4.head()"
   ]
  },
  {
   "cell_type": "code",
   "execution_count": 41,
   "metadata": {},
   "outputs": [],
   "source": [
    "df3.text = text4"
   ]
  },
  {
   "cell_type": "code",
   "execution_count": 44,
   "metadata": {},
   "outputs": [
    {
     "data": {
      "text/html": [
       "<div>\n",
       "<style scoped>\n",
       "    .dataframe tbody tr th:only-of-type {\n",
       "        vertical-align: middle;\n",
       "    }\n",
       "\n",
       "    .dataframe tbody tr th {\n",
       "        vertical-align: top;\n",
       "    }\n",
       "\n",
       "    .dataframe thead th {\n",
       "        text-align: right;\n",
       "    }\n",
       "</style>\n",
       "<table border=\"1\" class=\"dataframe\">\n",
       "  <thead>\n",
       "    <tr style=\"text-align: right;\">\n",
       "      <th></th>\n",
       "      <th>key</th>\n",
       "      <th>text</th>\n",
       "      <th>truth</th>\n",
       "      <th>toks</th>\n",
       "    </tr>\n",
       "  </thead>\n",
       "  <tbody>\n",
       "    <tr>\n",
       "      <th>0</th>\n",
       "      <td>1</td>\n",
       "      <td>there is heterogeneous enlargement of the  rig...</td>\n",
       "      <td>1</td>\n",
       "      <td>[32, 4, 60, 58, 6, 2, 14, 13, 6, 2, 1, 9, 19, ...</td>\n",
       "    </tr>\n",
       "    <tr>\n",
       "      <th>1</th>\n",
       "      <td>5</td>\n",
       "      <td>findings:  the imaged thyroid gland is normal.</td>\n",
       "      <td>0</td>\n",
       "      <td>[3, 2, 88, 1, 9, 4, 5]</td>\n",
       "    </tr>\n",
       "    <tr>\n",
       "      <th>2</th>\n",
       "      <td>8</td>\n",
       "      <td>findings: thyroid gland is within normal limits.</td>\n",
       "      <td>0</td>\n",
       "      <td>[3, 1, 9, 4, 27, 5, 37]</td>\n",
       "    </tr>\n",
       "    <tr>\n",
       "      <th>3</th>\n",
       "      <td>9</td>\n",
       "      <td>findings:  thyroid gland is within normal limits.</td>\n",
       "      <td>0</td>\n",
       "      <td>[3, 1, 9, 4, 27, 5, 37]</td>\n",
       "    </tr>\n",
       "    <tr>\n",
       "      <th>4</th>\n",
       "      <td>10</td>\n",
       "      <td>diffusely enlarged thyroid, similar to prior.</td>\n",
       "      <td>0</td>\n",
       "      <td>[383, 46, 1, 75, 21, 35]</td>\n",
       "    </tr>\n",
       "  </tbody>\n",
       "</table>\n",
       "</div>"
      ],
      "text/plain": [
       "   key                                               text  truth  \\\n",
       "0    1  there is heterogeneous enlargement of the  rig...      1   \n",
       "1    5     findings:  the imaged thyroid gland is normal.      0   \n",
       "2    8   findings: thyroid gland is within normal limits.      0   \n",
       "3    9  findings:  thyroid gland is within normal limits.      0   \n",
       "4   10      diffusely enlarged thyroid, similar to prior.      0   \n",
       "\n",
       "                                                toks  \n",
       "0  [32, 4, 60, 58, 6, 2, 14, 13, 6, 2, 1, 9, 19, ...  \n",
       "1                             [3, 2, 88, 1, 9, 4, 5]  \n",
       "2                            [3, 1, 9, 4, 27, 5, 37]  \n",
       "3                            [3, 1, 9, 4, 27, 5, 37]  \n",
       "4                           [383, 46, 1, 75, 21, 35]  "
      ]
     },
     "execution_count": 44,
     "metadata": {},
     "output_type": "execute_result"
    }
   ],
   "source": [
    "tok_raw = Tokenizer(char_level=False)\n",
    "tok_raw.fit_on_texts(df3.text.str.lower())\n",
    "tok_stem = Tokenizer(char_level=False)\n",
    "tok_stem.fit_on_texts(df3.text)\n",
    "df3['toks'] = tok_stem.texts_to_sequences(df3.text)\n",
    "df3.head()"
   ]
  },
  {
   "cell_type": "code",
   "execution_count": 45,
   "metadata": {},
   "outputs": [
    {
     "data": {
      "text/plain": [
       "2182"
      ]
     },
     "execution_count": 45,
     "metadata": {},
     "output_type": "execute_result"
    }
   ],
   "source": [
    "long = []\n",
    "for row in df3.toks:\n",
    "    long.append(np.max(row))\n",
    "np.max(long)"
   ]
  },
  {
   "cell_type": "code",
   "execution_count": 46,
   "metadata": {},
   "outputs": [],
   "source": [
    "n_stem_seq = 2183"
   ]
  },
  {
   "cell_type": "code",
   "execution_count": 52,
   "metadata": {},
   "outputs": [
    {
     "data": {
      "text/plain": [
       "402"
      ]
     },
     "execution_count": 52,
     "metadata": {},
     "output_type": "execute_result"
    }
   ],
   "source": [
    "long = []\n",
    "for row in df3.toks:\n",
    "    long.append(len(row))\n",
    "np.max(long)"
   ]
  },
  {
   "cell_type": "code",
   "execution_count": 54,
   "metadata": {},
   "outputs": [],
   "source": [
    "maxlen = 402"
   ]
  },
  {
   "cell_type": "code",
   "execution_count": 47,
   "metadata": {},
   "outputs": [],
   "source": [
    "df['toks'] = tok_stem.texts_to_sequences(df.text)\n",
    "df2['toks'] = tok_stem.texts_to_sequences(df2.text)"
   ]
  },
  {
   "cell_type": "code",
   "execution_count": 48,
   "metadata": {},
   "outputs": [],
   "source": [
    "X_train, X_test, y_train, y_test = train_test_split(df.toks,\n",
    "                                                   pd.get_dummies(df['truth'], drop_first=False),\n",
    "                                                   test_size = 0.2,\n",
    "                                                   stratify= df['truth'],\n",
    "                                                   random_state=42)"
   ]
  },
  {
   "cell_type": "code",
   "execution_count": 55,
   "metadata": {},
   "outputs": [],
   "source": [
    "X_train = pad_sequences(X_train, maxlen, truncating = 'post')\n",
    "X_test = pad_sequences(X_test, maxlen, truncating = 'post')"
   ]
  },
  {
   "cell_type": "code",
   "execution_count": 56,
   "metadata": {},
   "outputs": [],
   "source": [
    "y_train = y_train.values\n",
    "y_test = y_test.values"
   ]
  },
  {
   "cell_type": "code",
   "execution_count": 57,
   "metadata": {},
   "outputs": [],
   "source": [
    "from tensorflow.keras.layers import Input\n",
    "from tensorflow.keras.models import Model\n",
    "from tensorflow.keras.optimizers import Adam\n",
    "from tensorflow.keras.regularizers import l1_l2"
   ]
  },
  {
   "cell_type": "code",
   "execution_count": 112,
   "metadata": {},
   "outputs": [
    {
     "name": "stdout",
     "output_type": "stream",
     "text": [
      "Model: \"model_5\"\n",
      "_________________________________________________________________\n",
      "Layer (type)                 Output Shape              Param #   \n",
      "=================================================================\n",
      "Input_Text (InputLayer)      [(None, 402)]             0         \n",
      "_________________________________________________________________\n",
      "embedding_5 (Embedding)      (None, 402, 300)          654900    \n",
      "_________________________________________________________________\n",
      "global_average_pooling1d_5 ( (None, 300)               0         \n",
      "_________________________________________________________________\n",
      "dense_5 (Dense)              (None, 2)                 602       \n",
      "=================================================================\n",
      "Total params: 655,502\n",
      "Trainable params: 655,502\n",
      "Non-trainable params: 0\n",
      "_________________________________________________________________\n"
     ]
    }
   ],
   "source": [
    "def get_model():\n",
    "    embed_dim = 300\n",
    "    \n",
    "    input_text = Input(shape=[maxlen], name =\"Input_Text\")\n",
    "    \n",
    "    emb = (Embedding(n_stem_seq, embed_dim, input_length = maxlen))(input_text)\n",
    "    \n",
    "    pool = GlobalAveragePooling1D()(emb)\n",
    "    \n",
    "    output = Dense(2, activation='softmax')(pool)\n",
    "    \n",
    "    model = Model([input_text], output)\n",
    "    \n",
    "    optimizer = Adam(lr=0.001, beta_1 = 0.9, beta_2 = 0.999, epsilon=1e-08, decay = 0.0)\n",
    "    \n",
    "    model.compile(loss='binary_crossentropy', optimizer=optimizer, metrics=['accuracy'])\n",
    "    \n",
    "    return model\n",
    "\n",
    "model = get_model()\n",
    "model.summary()"
   ]
  },
  {
   "cell_type": "code",
   "execution_count": null,
   "metadata": {},
   "outputs": [],
   "source": []
  },
  {
   "cell_type": "code",
   "execution_count": 113,
   "metadata": {},
   "outputs": [
    {
     "name": "stdout",
     "output_type": "stream",
     "text": [
      "WARNING:tensorflow:sample_weight modes were coerced from\n",
      "  ...\n",
      "    to  \n",
      "  ['...']\n",
      "WARNING:tensorflow:sample_weight modes were coerced from\n",
      "  ...\n",
      "    to  \n",
      "  ['...']\n",
      "Train on 1860 samples, validate on 465 samples\n",
      "Epoch 1/300\n",
      "1856/1860 [============================>.] - ETA: 0s - loss: 0.9682 - accuracy: 0.1121\n",
      "Epoch 00001: val_loss improved from inf to 0.93516, saving model to 9.4.20_training_w_weights.h5\n",
      "1860/1860 [==============================] - 1s 529us/sample - loss: 0.9689 - accuracy: 0.1124 - val_loss: 0.9352 - val_accuracy: 0.1118\n",
      "Epoch 2/300\n",
      "1856/1860 [============================>.] - ETA: 0s - loss: 0.9330 - accuracy: 0.1126\n",
      "Epoch 00002: val_loss improved from 0.93516 to 0.92439, saving model to 9.4.20_training_w_weights.h5\n",
      "1860/1860 [==============================] - 0s 255us/sample - loss: 0.9324 - accuracy: 0.1124 - val_loss: 0.9244 - val_accuracy: 0.1118\n",
      "Epoch 3/300\n",
      "1856/1860 [============================>.] - ETA: 0s - loss: 0.9211 - accuracy: 0.1121\n",
      "Epoch 00003: val_loss improved from 0.92439 to 0.91168, saving model to 9.4.20_training_w_weights.h5\n",
      "1860/1860 [==============================] - 0s 252us/sample - loss: 0.9219 - accuracy: 0.1124 - val_loss: 0.9117 - val_accuracy: 0.1118\n",
      "Epoch 4/300\n",
      "1856/1860 [============================>.] - ETA: 0s - loss: 0.9072 - accuracy: 0.1126\n",
      "Epoch 00004: val_loss improved from 0.91168 to 0.89462, saving model to 9.4.20_training_w_weights.h5\n",
      "1860/1860 [==============================] - 0s 254us/sample - loss: 0.9067 - accuracy: 0.1124 - val_loss: 0.8946 - val_accuracy: 0.1118\n",
      "Epoch 5/300\n",
      "1856/1860 [============================>.] - ETA: 0s - loss: 0.8868 - accuracy: 0.1131\n",
      "Epoch 00005: val_loss improved from 0.89462 to 0.87011, saving model to 9.4.20_training_w_weights.h5\n",
      "1860/1860 [==============================] - 1s 269us/sample - loss: 0.8861 - accuracy: 0.1129 - val_loss: 0.8701 - val_accuracy: 0.1118\n",
      "Epoch 6/300\n",
      "1856/1860 [============================>.] - ETA: 0s - loss: 0.8632 - accuracy: 0.1185\n",
      "Epoch 00006: val_loss improved from 0.87011 to 0.83571, saving model to 9.4.20_training_w_weights.h5\n",
      "1860/1860 [==============================] - 1s 269us/sample - loss: 0.8639 - accuracy: 0.1188 - val_loss: 0.8357 - val_accuracy: 0.1355\n",
      "Epoch 7/300\n",
      "1856/1860 [============================>.] - ETA: 0s - loss: 0.8239 - accuracy: 0.1433\n",
      "Epoch 00007: val_loss improved from 0.83571 to 0.79351, saving model to 9.4.20_training_w_weights.h5\n",
      "1860/1860 [==============================] - 0s 250us/sample - loss: 0.8232 - accuracy: 0.1435 - val_loss: 0.7935 - val_accuracy: 0.1634\n",
      "Epoch 8/300\n",
      "1856/1860 [============================>.] - ETA: 0s - loss: 0.7800 - accuracy: 0.1708\n",
      "Epoch 00008: val_loss improved from 0.79351 to 0.74623, saving model to 9.4.20_training_w_weights.h5\n",
      "1860/1860 [==============================] - 0s 260us/sample - loss: 0.7796 - accuracy: 0.1704 - val_loss: 0.7462 - val_accuracy: 0.1742\n",
      "Epoch 9/300\n",
      "1856/1860 [============================>.] - ETA: 0s - loss: 0.7286 - accuracy: 0.1897\n",
      "Epoch 00009: val_loss improved from 0.74623 to 0.69348, saving model to 9.4.20_training_w_weights.h5\n",
      "1860/1860 [==============================] - 0s 254us/sample - loss: 0.7302 - accuracy: 0.1898 - val_loss: 0.6935 - val_accuracy: 0.2237\n",
      "Epoch 10/300\n",
      "1856/1860 [============================>.] - ETA: 0s - loss: 0.6890 - accuracy: 0.2786\n",
      "Epoch 00010: val_loss improved from 0.69348 to 0.64701, saving model to 9.4.20_training_w_weights.h5\n",
      "1860/1860 [==============================] - 0s 248us/sample - loss: 0.6894 - accuracy: 0.2796 - val_loss: 0.6470 - val_accuracy: 0.2817\n",
      "Epoch 11/300\n",
      "1856/1860 [============================>.] - ETA: 0s - loss: 0.6335 - accuracy: 0.3281\n",
      "Epoch 00011: val_loss improved from 0.64701 to 0.60023, saving model to 9.4.20_training_w_weights.h5\n",
      "1860/1860 [==============================] - 0s 258us/sample - loss: 0.6350 - accuracy: 0.3280 - val_loss: 0.6002 - val_accuracy: 0.5097\n",
      "Epoch 12/300\n",
      "1856/1860 [============================>.] - ETA: 0s - loss: 0.5930 - accuracy: 0.4159\n",
      "Epoch 00012: val_loss improved from 0.60023 to 0.57224, saving model to 9.4.20_training_w_weights.h5\n",
      "1860/1860 [==============================] - 0s 262us/sample - loss: 0.5924 - accuracy: 0.4161 - val_loss: 0.5722 - val_accuracy: 0.7720\n",
      "Epoch 13/300\n",
      "1856/1860 [============================>.] - ETA: 0s - loss: 0.5536 - accuracy: 0.6789\n",
      "Epoch 00013: val_loss improved from 0.57224 to 0.52699, saving model to 9.4.20_training_w_weights.h5\n",
      "1860/1860 [==============================] - 0s 251us/sample - loss: 0.5533 - accuracy: 0.6785 - val_loss: 0.5270 - val_accuracy: 0.6409\n",
      "Epoch 14/300\n",
      "1856/1860 [============================>.] - ETA: 0s - loss: 0.5159 - accuracy: 0.6988\n",
      "Epoch 00014: val_loss improved from 0.52699 to 0.49654, saving model to 9.4.20_training_w_weights.h5\n",
      "1860/1860 [==============================] - 0s 267us/sample - loss: 0.5155 - accuracy: 0.6989 - val_loss: 0.4965 - val_accuracy: 0.7312\n",
      "Epoch 15/300\n",
      "1856/1860 [============================>.] - ETA: 0s - loss: 0.4884 - accuracy: 0.7344\n",
      "Epoch 00015: val_loss improved from 0.49654 to 0.47078, saving model to 9.4.20_training_w_weights.h5\n",
      "1860/1860 [==============================] - 0s 266us/sample - loss: 0.4878 - accuracy: 0.7349 - val_loss: 0.4708 - val_accuracy: 0.7548\n",
      "Epoch 16/300\n",
      "1856/1860 [============================>.] - ETA: 0s - loss: 0.4588 - accuracy: 0.7802\n",
      "Epoch 00016: val_loss improved from 0.47078 to 0.44811, saving model to 9.4.20_training_w_weights.h5\n",
      "1860/1860 [==============================] - 0s 260us/sample - loss: 0.4601 - accuracy: 0.7806 - val_loss: 0.4481 - val_accuracy: 0.7634\n",
      "Epoch 17/300\n",
      "1856/1860 [============================>.] - ETA: 0s - loss: 0.4463 - accuracy: 0.7204\n",
      "Epoch 00017: val_loss improved from 0.44811 to 0.43328, saving model to 9.4.20_training_w_weights.h5\n",
      "1860/1860 [==============================] - 0s 251us/sample - loss: 0.4463 - accuracy: 0.7199 - val_loss: 0.4333 - val_accuracy: 0.8301\n",
      "Epoch 18/300\n",
      "1856/1860 [============================>.] - ETA: 0s - loss: 0.4106 - accuracy: 0.7953\n",
      "Epoch 00018: val_loss improved from 0.43328 to 0.41353, saving model to 9.4.20_training_w_weights.h5\n",
      "1860/1860 [==============================] - 0s 251us/sample - loss: 0.4102 - accuracy: 0.7952 - val_loss: 0.4135 - val_accuracy: 0.7957\n",
      "Epoch 19/300\n",
      "1856/1860 [============================>.] - ETA: 0s - loss: 0.3931 - accuracy: 0.8254\n",
      "Epoch 00019: val_loss improved from 0.41353 to 0.39985, saving model to 9.4.20_training_w_weights.h5\n",
      "1860/1860 [==============================] - 0s 252us/sample - loss: 0.3929 - accuracy: 0.8253 - val_loss: 0.3999 - val_accuracy: 0.7935\n",
      "Epoch 20/300\n",
      "1856/1860 [============================>.] - ETA: 0s - loss: 0.3832 - accuracy: 0.8233\n",
      "Epoch 00020: val_loss improved from 0.39985 to 0.39542, saving model to 9.4.20_training_w_weights.h5\n",
      "1860/1860 [==============================] - 0s 247us/sample - loss: 0.3826 - accuracy: 0.8237 - val_loss: 0.3954 - val_accuracy: 0.8602\n",
      "Epoch 21/300\n",
      "1856/1860 [============================>.] - ETA: 0s - loss: 0.3613 - accuracy: 0.8254\n",
      "Epoch 00021: val_loss did not improve from 0.39542\n",
      "1860/1860 [==============================] - 0s 238us/sample - loss: 0.3607 - accuracy: 0.8258 - val_loss: 0.4082 - val_accuracy: 0.9118\n",
      "Epoch 22/300\n",
      "1856/1860 [============================>.] - ETA: 0s - loss: 0.3579 - accuracy: 0.8411\n",
      "Epoch 00022: val_loss improved from 0.39542 to 0.37355, saving model to 9.4.20_training_w_weights.h5\n",
      "1860/1860 [==============================] - 0s 250us/sample - loss: 0.3612 - accuracy: 0.8409 - val_loss: 0.3735 - val_accuracy: 0.8581\n",
      "Epoch 23/300\n",
      "1856/1860 [============================>.] - ETA: 0s - loss: 0.3785 - accuracy: 0.7818\n",
      "Epoch 00023: val_loss improved from 0.37355 to 0.36827, saving model to 9.4.20_training_w_weights.h5\n",
      "1860/1860 [==============================] - 0s 260us/sample - loss: 0.3780 - accuracy: 0.7823 - val_loss: 0.3683 - val_accuracy: 0.8645\n",
      "Epoch 24/300\n",
      "1856/1860 [============================>.] - ETA: 0s - loss: 0.3235 - accuracy: 0.8534\n",
      "Epoch 00024: val_loss improved from 0.36827 to 0.35685, saving model to 9.4.20_training_w_weights.h5\n",
      "1860/1860 [==============================] - 0s 261us/sample - loss: 0.3240 - accuracy: 0.8538 - val_loss: 0.3568 - val_accuracy: 0.8495\n"
     ]
    },
    {
     "name": "stdout",
     "output_type": "stream",
     "text": [
      "Epoch 25/300\n",
      "1856/1860 [============================>.] - ETA: 0s - loss: 0.3138 - accuracy: 0.8405\n",
      "Epoch 00025: val_loss did not improve from 0.35685\n",
      "1860/1860 [==============================] - 0s 240us/sample - loss: 0.3142 - accuracy: 0.8409 - val_loss: 0.3644 - val_accuracy: 0.9032\n",
      "Epoch 26/300\n",
      "1856/1860 [============================>.] - ETA: 0s - loss: 0.3041 - accuracy: 0.8610\n",
      "Epoch 00026: val_loss improved from 0.35685 to 0.34563, saving model to 9.4.20_training_w_weights.h5\n",
      "1860/1860 [==============================] - 0s 257us/sample - loss: 0.3036 - accuracy: 0.8613 - val_loss: 0.3456 - val_accuracy: 0.8624\n",
      "Epoch 27/300\n",
      "1856/1860 [============================>.] - ETA: 0s - loss: 0.2901 - accuracy: 0.8874\n",
      "Epoch 00027: val_loss improved from 0.34563 to 0.33777, saving model to 9.4.20_training_w_weights.h5\n",
      "1860/1860 [==============================] - 0s 261us/sample - loss: 0.2929 - accuracy: 0.8871 - val_loss: 0.3378 - val_accuracy: 0.8495\n",
      "Epoch 28/300\n",
      "1856/1860 [============================>.] - ETA: 0s - loss: 0.3174 - accuracy: 0.8206\n",
      "Epoch 00028: val_loss did not improve from 0.33777\n",
      "1860/1860 [==============================] - 0s 246us/sample - loss: 0.3167 - accuracy: 0.8210 - val_loss: 0.3665 - val_accuracy: 0.9097\n",
      "Epoch 29/300\n",
      "1856/1860 [============================>.] - ETA: 0s - loss: 0.2848 - accuracy: 0.8766\n",
      "Epoch 00029: val_loss did not improve from 0.33777\n",
      "1860/1860 [==============================] - 0s 237us/sample - loss: 0.2852 - accuracy: 0.8763 - val_loss: 0.3527 - val_accuracy: 0.9097\n",
      "Epoch 30/300\n",
      "1856/1860 [============================>.] - ETA: 0s - loss: 0.2757 - accuracy: 0.8815\n",
      "Epoch 00030: val_loss improved from 0.33777 to 0.33324, saving model to 9.4.20_training_w_weights.h5\n",
      "1860/1860 [==============================] - 0s 262us/sample - loss: 0.2753 - accuracy: 0.8817 - val_loss: 0.3332 - val_accuracy: 0.8903\n",
      "Epoch 31/300\n",
      "1856/1860 [============================>.] - ETA: 0s - loss: 0.2683 - accuracy: 0.8928\n",
      "Epoch 00031: val_loss did not improve from 0.33324\n",
      "1860/1860 [==============================] - 0s 233us/sample - loss: 0.2689 - accuracy: 0.8930 - val_loss: 0.3336 - val_accuracy: 0.8968\n",
      "Epoch 32/300\n",
      "1856/1860 [============================>.] - ETA: 0s - loss: 0.2652 - accuracy: 0.8642\n",
      "Epoch 00032: val_loss did not improve from 0.33324\n",
      "1860/1860 [==============================] - 0s 243us/sample - loss: 0.2648 - accuracy: 0.8645 - val_loss: 0.3440 - val_accuracy: 0.9118\n",
      "Epoch 33/300\n",
      "1856/1860 [============================>.] - ETA: 0s - loss: 0.2517 - accuracy: 0.8966\n",
      "Epoch 00033: val_loss improved from 0.33324 to 0.32103, saving model to 9.4.20_training_w_weights.h5\n",
      "1860/1860 [==============================] - 0s 254us/sample - loss: 0.2515 - accuracy: 0.8968 - val_loss: 0.3210 - val_accuracy: 0.8710\n",
      "Epoch 34/300\n",
      "1856/1860 [============================>.] - ETA: 0s - loss: 0.2451 - accuracy: 0.9025\n",
      "Epoch 00034: val_loss did not improve from 0.32103\n",
      "1860/1860 [==============================] - 0s 232us/sample - loss: 0.2447 - accuracy: 0.9027 - val_loss: 0.3275 - val_accuracy: 0.8968\n",
      "Epoch 35/300\n",
      "1856/1860 [============================>.] - ETA: 0s - loss: 0.2344 - accuracy: 0.9138\n",
      "Epoch 00035: val_loss improved from 0.32103 to 0.31808, saving model to 9.4.20_training_w_weights.h5\n",
      "1860/1860 [==============================] - 0s 257us/sample - loss: 0.2367 - accuracy: 0.9140 - val_loss: 0.3181 - val_accuracy: 0.8731\n",
      "Epoch 36/300\n",
      "1856/1860 [============================>.] - ETA: 0s - loss: 0.2758 - accuracy: 0.8605\n",
      "Epoch 00036: val_loss did not improve from 0.31808\n",
      "1860/1860 [==============================] - 0s 237us/sample - loss: 0.2756 - accuracy: 0.8602 - val_loss: 0.3294 - val_accuracy: 0.9054\n",
      "Epoch 37/300\n",
      "1856/1860 [============================>.] - ETA: 0s - loss: 0.2291 - accuracy: 0.8955\n",
      "Epoch 00037: val_loss did not improve from 0.31808\n",
      "1860/1860 [==============================] - 0s 244us/sample - loss: 0.2292 - accuracy: 0.8957 - val_loss: 0.3455 - val_accuracy: 0.9226\n",
      "Epoch 38/300\n",
      "1856/1860 [============================>.] - ETA: 0s - loss: 0.2212 - accuracy: 0.9079\n",
      "Epoch 00038: val_loss did not improve from 0.31808\n",
      "1860/1860 [==============================] - 0s 232us/sample - loss: 0.2217 - accuracy: 0.9081 - val_loss: 0.3378 - val_accuracy: 0.9161\n",
      "Epoch 39/300\n",
      "1856/1860 [============================>.] - ETA: 0s - loss: 0.2240 - accuracy: 0.9192\n",
      "Epoch 00039: val_loss improved from 0.31808 to 0.31115, saving model to 9.4.20_training_w_weights.h5\n",
      "1860/1860 [==============================] - 0s 263us/sample - loss: 0.2250 - accuracy: 0.9188 - val_loss: 0.3111 - val_accuracy: 0.8538\n",
      "Epoch 40/300\n",
      "1856/1860 [============================>.] - ETA: 0s - loss: 0.2248 - accuracy: 0.8939\n",
      "Epoch 00040: val_loss did not improve from 0.31115\n",
      "1860/1860 [==============================] - 0s 235us/sample - loss: 0.2243 - accuracy: 0.8941 - val_loss: 0.3412 - val_accuracy: 0.9247\n",
      "Epoch 41/300\n",
      "1856/1860 [============================>.] - ETA: 0s - loss: 0.2085 - accuracy: 0.9213\n",
      "Epoch 00041: val_loss did not improve from 0.31115\n",
      "1860/1860 [==============================] - 0s 241us/sample - loss: 0.2081 - accuracy: 0.9215 - val_loss: 0.3556 - val_accuracy: 0.9269\n",
      "Epoch 42/300\n",
      "1792/1860 [===========================>..] - ETA: 0s - loss: 0.2054 - accuracy: 0.9224\n",
      "Epoch 00042: val_loss did not improve from 0.31115\n",
      "1860/1860 [==============================] - 0s 249us/sample - loss: 0.2039 - accuracy: 0.9226 - val_loss: 0.3538 - val_accuracy: 0.9269\n",
      "Epoch 43/300\n",
      "1856/1860 [============================>.] - ETA: 0s - loss: 0.1995 - accuracy: 0.9240\n",
      "Epoch 00043: val_loss did not improve from 0.31115\n",
      "1860/1860 [==============================] - 0s 259us/sample - loss: 0.1995 - accuracy: 0.9242 - val_loss: 0.3565 - val_accuracy: 0.9269\n",
      "Epoch 44/300\n",
      "1856/1860 [============================>.] - ETA: 0s - loss: 0.1935 - accuracy: 0.9186\n",
      "Epoch 00044: val_loss did not improve from 0.31115\n",
      "1860/1860 [==============================] - 0s 263us/sample - loss: 0.1960 - accuracy: 0.9188 - val_loss: 0.3723 - val_accuracy: 0.9312\n",
      "Epoch 45/300\n",
      "1856/1860 [============================>.] - ETA: 0s - loss: 0.2057 - accuracy: 0.8949\n",
      "Epoch 00045: val_loss did not improve from 0.31115\n",
      "1860/1860 [==============================] - 0s 258us/sample - loss: 0.2053 - accuracy: 0.8952 - val_loss: 0.3478 - val_accuracy: 0.9226\n",
      "Epoch 46/300\n",
      "1856/1860 [============================>.] - ETA: 0s - loss: 0.1881 - accuracy: 0.9251\n",
      "Epoch 00046: val_loss did not improve from 0.31115\n",
      "1860/1860 [==============================] - 0s 264us/sample - loss: 0.1879 - accuracy: 0.9253 - val_loss: 0.3760 - val_accuracy: 0.9333\n",
      "Epoch 47/300\n",
      "1856/1860 [============================>.] - ETA: 0s - loss: 0.1855 - accuracy: 0.9348\n",
      "Epoch 00047: val_loss did not improve from 0.31115\n",
      "1860/1860 [==============================] - 0s 264us/sample - loss: 0.1854 - accuracy: 0.9344 - val_loss: 0.3425 - val_accuracy: 0.9140\n",
      "Epoch 48/300\n",
      "1856/1860 [============================>.] - ETA: 0s - loss: 0.1821 - accuracy: 0.9337\n",
      "Epoch 00048: val_loss did not improve from 0.31115\n",
      "1860/1860 [==============================] - 0s 264us/sample - loss: 0.1822 - accuracy: 0.9339 - val_loss: 0.3471 - val_accuracy: 0.9204\n",
      "Epoch 49/300\n",
      "1792/1860 [===========================>..] - ETA: 0s - loss: 0.1783 - accuracy: 0.9308\n",
      "Epoch 00049: val_loss did not improve from 0.31115\n",
      "1860/1860 [==============================] - 1s 272us/sample - loss: 0.1788 - accuracy: 0.9312 - val_loss: 0.3677 - val_accuracy: 0.9247\n"
     ]
    }
   ],
   "source": [
    "from tensorflow.keras.callbacks import ModelCheckpoint\n",
    "class_weight = {0:0.5 , 1:10}\n",
    "filepath = '9.4.20_training_w_weights.h5'\n",
    "checkpoint = ModelCheckpoint(filepath, monitor='val_loss', verbose = 1, save_best_only=True)\n",
    "epochs = 300\n",
    "hist = model.fit(X_train, y_train,\n",
    "                batch_size = 64, \n",
    "                validation_data = (X_test, y_test),\n",
    "                epochs = epochs,\n",
    "                class_weight = class_weight,\n",
    "                callbacks=[EarlyStopping(patience=10, monitor='val_loss'), checkpoint])"
   ]
  },
  {
   "cell_type": "code",
   "execution_count": 81,
   "metadata": {},
   "outputs": [],
   "source": [
    "from tensorflow.keras.models import load_model\n",
    "model = load_model(filepath)\n",
    "test_pred = model.predict(X_test, batch_size=64)\n"
   ]
  },
  {
   "cell_type": "code",
   "execution_count": 82,
   "metadata": {},
   "outputs": [],
   "source": [
    "test_pred2 = test_pred.argmax(1)\n",
    "y_test2 = y_test.argmax(1)"
   ]
  },
  {
   "cell_type": "code",
   "execution_count": 83,
   "metadata": {},
   "outputs": [],
   "source": [
    "from sklearn import metrics\n",
    "tn, fp, fn, tp = metrics.confusion_matrix(y_test2, test_pred2).ravel()"
   ]
  },
  {
   "cell_type": "code",
   "execution_count": 84,
   "metadata": {},
   "outputs": [
    {
     "name": "stdout",
     "output_type": "stream",
     "text": [
      "True Negative:  364\n",
      "False Positive:  49\n",
      "False Negative:  4\n",
      "True Positive:  48\n",
      "Accuracy:  0.886021505376344\n",
      "Precision/PPV:  0.4948453608247423\n",
      "Sensetivity/Recall:  0.9230769230769231\n"
     ]
    }
   ],
   "source": [
    "print('True Negative: ', tn)\n",
    "print('False Positive: ', fp)\n",
    "print('False Negative: ', fn)\n",
    "print('True Positive: ', tp)\n",
    "\n",
    "print('Accuracy: ', (tp+tn)/(tp+fp+fn+tn))\n",
    "print('Precision/PPV: ', (tp)/(tp+fp))\n",
    "print('Sensetivity/Recall: ', tp/(tp+fn))\n"
   ]
  },
  {
   "cell_type": "code",
   "execution_count": 77,
   "metadata": {},
   "outputs": [
    {
     "data": {
      "text/plain": [
       "0.8877419354838709"
      ]
     },
     "execution_count": 77,
     "metadata": {},
     "output_type": "execute_result"
    }
   ],
   "source": [
    "2064/2325"
   ]
  },
  {
   "cell_type": "code",
   "execution_count": 78,
   "metadata": {},
   "outputs": [
    {
     "data": {
      "text/plain": [
       "0.9712591240875912"
      ]
     },
     "execution_count": 78,
     "metadata": {},
     "output_type": "execute_result"
    }
   ],
   "source": [
    "6387/6576"
   ]
  },
  {
   "cell_type": "code",
   "execution_count": 114,
   "metadata": {},
   "outputs": [],
   "source": [
    "model = load_model(filepath)\n",
    "test_pred = model.predict(df2_fortest, batch_size=64)"
   ]
  },
  {
   "cell_type": "code",
   "execution_count": 87,
   "metadata": {},
   "outputs": [],
   "source": [
    "df2_fortest = pad_sequences(df2.toks, maxlen, truncating = 'post')"
   ]
  },
  {
   "cell_type": "code",
   "execution_count": 115,
   "metadata": {},
   "outputs": [],
   "source": [
    "test_pred2 = test_pred.argmax(1)\n"
   ]
  },
  {
   "cell_type": "code",
   "execution_count": 116,
   "metadata": {},
   "outputs": [],
   "source": [
    "tn, fp, fn, tp = metrics.confusion_matrix(df2.truth, test_pred2).ravel()"
   ]
  },
  {
   "cell_type": "code",
   "execution_count": 117,
   "metadata": {},
   "outputs": [
    {
     "name": "stdout",
     "output_type": "stream",
     "text": [
      "True Negative:  6135\n",
      "False Positive:  252\n",
      "False Negative:  14\n",
      "True Positive:  175\n",
      "Accuracy:  0.9595498783454988\n",
      "Precision/PPV:  0.4098360655737705\n",
      "Sensetivity/Recall:  0.9259259259259259\n"
     ]
    }
   ],
   "source": [
    "print('True Negative: ', tn)\n",
    "print('False Positive: ', fp)\n",
    "print('False Negative: ', fn)\n",
    "print('True Positive: ', tp)\n",
    "\n",
    "print('Accuracy: ', (tp+tn)/(tp+fp+fn+tn))\n",
    "print('Precision/PPV: ', (tp)/(tp+fp))\n",
    "print('Sensetivity/Recall: ', tp/(tp+fn))\n"
   ]
  },
  {
   "cell_type": "code",
   "execution_count": 118,
   "metadata": {},
   "outputs": [],
   "source": [
    "from scipy.stats import bayes_mvs"
   ]
  },
  {
   "cell_type": "code",
   "execution_count": null,
   "metadata": {},
   "outputs": [],
   "source": [
    "bayes_mvs( , alpha=0.95)"
   ]
  },
  {
   "cell_type": "code",
   "execution_count": 119,
   "metadata": {},
   "outputs": [],
   "source": [
    "total_tp = 175+175+172\n",
    "total_fp = 185+252+213\n",
    "total_tn = 6202+6135+6174\n",
    "total_fn = 14+14+17"
   ]
  },
  {
   "cell_type": "code",
   "execution_count": 120,
   "metadata": {},
   "outputs": [],
   "source": [
    "trues = total_tp + total_tn\n",
    "falses = total_fp + total_fn"
   ]
  },
  {
   "cell_type": "code",
   "execution_count": 121,
   "metadata": {},
   "outputs": [
    {
     "data": {
      "text/plain": [
       "0.9647708840227088"
      ]
     },
     "execution_count": 121,
     "metadata": {},
     "output_type": "execute_result"
    }
   ],
   "source": [
    "trues/(trues+falses)"
   ]
  },
  {
   "cell_type": "code",
   "execution_count": 122,
   "metadata": {},
   "outputs": [],
   "source": [
    "true_ones = np.ones(trues)"
   ]
  },
  {
   "cell_type": "code",
   "execution_count": 123,
   "metadata": {},
   "outputs": [
    {
     "data": {
      "text/plain": [
       "(19033,)"
      ]
     },
     "execution_count": 123,
     "metadata": {},
     "output_type": "execute_result"
    }
   ],
   "source": [
    "true_ones.shape"
   ]
  },
  {
   "cell_type": "code",
   "execution_count": 124,
   "metadata": {},
   "outputs": [],
   "source": [
    "false_zeros = np.zeros(falses)"
   ]
  },
  {
   "cell_type": "code",
   "execution_count": 125,
   "metadata": {},
   "outputs": [
    {
     "data": {
      "text/plain": [
       "(695,)"
      ]
     },
     "execution_count": 125,
     "metadata": {},
     "output_type": "execute_result"
    }
   ],
   "source": [
    "false_zeros.shape"
   ]
  },
  {
   "cell_type": "code",
   "execution_count": 132,
   "metadata": {},
   "outputs": [],
   "source": [
    "acc = np.concatenate([false_zeros, true_ones])"
   ]
  },
  {
   "cell_type": "code",
   "execution_count": 133,
   "metadata": {},
   "outputs": [
    {
     "data": {
      "text/plain": [
       "(19728,)"
      ]
     },
     "execution_count": 133,
     "metadata": {},
     "output_type": "execute_result"
    }
   ],
   "source": [
    "acc.shape"
   ]
  },
  {
   "cell_type": "code",
   "execution_count": 135,
   "metadata": {},
   "outputs": [
    {
     "data": {
      "text/plain": [
       "(Mean(statistic=0.9647708840227088, minmax=(0.9621983002360095, 0.9673434678094082)),\n",
       " Variance(statistic=0.03398802536474973, minmax=(0.03331729573342786, 0.0346587549960716)),\n",
       " Std_dev(statistic=0.1843584154975024, minmax=(0.18253932405675677, 0.18617750693824803)))"
      ]
     },
     "execution_count": 135,
     "metadata": {},
     "output_type": "execute_result"
    }
   ],
   "source": [
    "bayes_mvs(acc, alpha=0.95)"
   ]
  },
  {
   "cell_type": "code",
   "execution_count": 138,
   "metadata": {},
   "outputs": [],
   "source": [
    "sens = np.concatenate([np.ones(total_tp), np.zeros(total_fn)])"
   ]
  },
  {
   "cell_type": "code",
   "execution_count": 139,
   "metadata": {},
   "outputs": [
    {
     "data": {
      "text/plain": [
       "(Mean(statistic=0.9206349206349206, minmax=(0.8983183219787403, 0.9429515192911009)),\n",
       " Variance(statistic=0.0734549138804458, minmax=(0.06536363836428487, 0.08253182578217887)),\n",
       " Std_dev(statistic=0.2709055613430478, minmax=(0.25566313454286843, 0.2872835285605126)))"
      ]
     },
     "execution_count": 139,
     "metadata": {},
     "output_type": "execute_result"
    }
   ],
   "source": [
    "bayes_mvs(sens, alpha=0.95)"
   ]
  },
  {
   "cell_type": "code",
   "execution_count": 140,
   "metadata": {},
   "outputs": [],
   "source": [
    "spec = np.concatenate([np.ones(total_tn), np.zeros(total_fp)])"
   ]
  },
  {
   "cell_type": "code",
   "execution_count": 141,
   "metadata": {},
   "outputs": [
    {
     "data": {
      "text/plain": [
       "(Mean(statistic=0.966076927091488, minmax=(0.9635136683127694, 0.9686401858702065)),\n",
       " Variance(statistic=0.032772298032955866, minmax=(0.03211606075197317, 0.03342853531393856)),\n",
       " Std_dev(statistic=0.18103120734546257, minmax=(0.1792187096810947, 0.18284370500983044)))"
      ]
     },
     "execution_count": 141,
     "metadata": {},
     "output_type": "execute_result"
    }
   ],
   "source": [
    "bayes_mvs(spec, alpha=0.95)"
   ]
  },
  {
   "cell_type": "code",
   "execution_count": 142,
   "metadata": {},
   "outputs": [],
   "source": [
    "ppv = np.concatenate([np.ones(total_tp), np.zeros(total_fp)])"
   ]
  },
  {
   "cell_type": "code",
   "execution_count": 143,
   "metadata": {},
   "outputs": [
    {
     "data": {
      "text/plain": [
       "(Mean(statistic=0.4453924914675768, minmax=(0.4169381457842952, 0.4738468371508584)),\n",
       " Variance(statistic=0.24701802001188128, minmax=(0.22701811563211313, 0.2670179243916494)),\n",
       " Std_dev(statistic=0.4970090743757917, minmax=(0.47688881358891716, 0.5171293351626663)))"
      ]
     },
     "execution_count": 143,
     "metadata": {},
     "output_type": "execute_result"
    }
   ],
   "source": [
    "bayes_mvs(ppv, alpha=0.95)"
   ]
  },
  {
   "cell_type": "code",
   "execution_count": 145,
   "metadata": {},
   "outputs": [],
   "source": [
    "npv = np.concatenate([np.ones(total_tn), np.zeros(total_fn)])"
   ]
  },
  {
   "cell_type": "code",
   "execution_count": 146,
   "metadata": {},
   "outputs": [
    {
     "data": {
      "text/plain": [
       "(Mean(statistic=0.9975749083854278, minmax=(0.9968672189008666, 0.9982825978699891)),\n",
       " Variance(statistic=0.0024192105452330386, minmax=(0.0023699845422334716, 0.0024684365482326056)),\n",
       " Std_dev(statistic=0.04918547087538187, minmax=(0.04868505884187418, 0.04968588290888957)))"
      ]
     },
     "execution_count": 146,
     "metadata": {},
     "output_type": "execute_result"
    }
   ],
   "source": [
    "bayes_mvs(npv, alpha=0.95)"
   ]
  },
  {
   "cell_type": "code",
   "execution_count": null,
   "metadata": {},
   "outputs": [],
   "source": []
  }
 ],
 "metadata": {
  "kernelspec": {
   "display_name": "Python 3",
   "language": "python",
   "name": "python3"
  },
  "language_info": {
   "codemirror_mode": {
    "name": "ipython",
    "version": 3
   },
   "file_extension": ".py",
   "mimetype": "text/x-python",
   "name": "python",
   "nbconvert_exporter": "python",
   "pygments_lexer": "ipython3",
   "version": "3.6.9"
  }
 },
 "nbformat": 4,
 "nbformat_minor": 4
}
